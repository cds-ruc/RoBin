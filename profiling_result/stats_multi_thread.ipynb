{
 "cells": [
  {
   "cell_type": "code",
   "execution_count": 5,
   "metadata": {},
   "outputs": [
    {
     "name": "stdout",
     "output_type": "stream",
     "text": [
      "learned indexes worse than traditional indexes cases:\n",
      "         artolc  btreeolc\n",
      "alexolc      33         0\n",
      "sali        103        58\n",
      "learned indexes better than traditional indexes cases:\n",
      "         artolc  btreeolc\n",
      "alexolc      23        56\n",
      "sali          7        52\n"
     ]
    }
   ],
   "source": [
    "import pandas as pd\n",
    "\n",
    "learned_indexes = ['alexolc', 'sali']\n",
    "traditional_indexes = ['artolc', 'btreeolc']\n",
    "\n",
    "df = pd.read_csv('./multi_thread_thp.csv')\n",
    "\n",
    "# trim read_ratio = 0\n",
    "df = df[df['read_ratio'] != 0]\n",
    "\n",
    "df = df[df['thread_num'] == 16]\n",
    "\n",
    "grouped = df.groupby(['index_type', 'key_path', 'test_suite', 'init_table_size'])['throughput'].mean().reset_index()\n",
    "learned_dfs = {index: grouped[grouped['index_type'] == index] for index in learned_indexes}\n",
    "traditional_dfs = {index: grouped[grouped['index_type'] == index] for index in traditional_indexes}\n",
    "\n",
    "# Counting the number of cases where the throughput of learned indexes is worse and better than traditional indexes\n",
    "worse_cases_counts = {}\n",
    "better_cases_counts = {}\n",
    "for learned_index, learned_df in learned_dfs.items():\n",
    "    worse_cases_counts[learned_index] = {}\n",
    "    better_cases_counts[learned_index] = {}\n",
    "    for traditional_index, traditional_df in traditional_dfs.items():\n",
    "        # Merging the DataFrames\n",
    "        merged_df = pd.merge(learned_df, traditional_df, on=['key_path', 'test_suite', 'init_table_size'], suffixes=(f'_{learned_index}', f'_{traditional_index}'))\n",
    "        # Counting the worse and better cases\n",
    "        worse_cases_count = (merged_df[f'throughput_{learned_index}'] < merged_df[f'throughput_{traditional_index}']).sum()\n",
    "        better_cases_count = (merged_df[f'throughput_{learned_index}'] >= merged_df[f'throughput_{traditional_index}']).sum()\n",
    "        worse_cases_counts[learned_index][traditional_index] = worse_cases_count\n",
    "        better_cases_counts[learned_index][traditional_index] = better_cases_count\n",
    "\n",
    "worse_cases_df = pd.DataFrame(worse_cases_counts)\n",
    "worse_cases_df = worse_cases_df.T\n",
    "print(\"learned indexes worse than traditional indexes cases:\")\n",
    "print(worse_cases_df)\n",
    "\n",
    "better_cases_df = pd.DataFrame(better_cases_counts)\n",
    "better_cases_df = better_cases_df.T\n",
    "print(\"learned indexes better than traditional indexes cases:\")\n",
    "print(better_cases_df)"
   ]
  }
 ],
 "metadata": {
  "kernelspec": {
   "display_name": ".venv",
   "language": "python",
   "name": "python3"
  },
  "language_info": {
   "codemirror_mode": {
    "name": "ipython",
    "version": 3
   },
   "file_extension": ".py",
   "mimetype": "text/x-python",
   "name": "python",
   "nbconvert_exporter": "python",
   "pygments_lexer": "ipython3",
   "version": "3.8.10"
  }
 },
 "nbformat": 4,
 "nbformat_minor": 2
}
