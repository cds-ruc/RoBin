{
 "cells": [
  {
   "cell_type": "code",
   "execution_count": 38,
   "metadata": {},
   "outputs": [
    {
     "name": "stdout",
     "output_type": "stream",
     "text": [
      "fit ratio\n",
      "alex: 91/124 = 0.7338709677419355\n",
      "lipp: 100/124 = 0.8064516129032258\n",
      "sum: 191/248 = 0.7701612903225806\n"
     ]
    }
   ],
   "source": [
    "# fit ratio\n",
    "import pandas as pd\n",
    "\n",
    "datasets = [\"linear\", \"covid\", \"fb-1\", \"osm\"]\n",
    "cases = [\"10\", \"21\", \"22\", \"41\", \"42\"]\n",
    "bulkload_ratios = [\"0.0\", \"0.005\", \"0.01\", \"0.025\", \"0.05\", \"0.1\", \"0.25\", \"0.5\", \"1.0\"]\n",
    "index_types = [\"alex\", \"lipp\"]\n",
    "\n",
    "result = {}\n",
    "\n",
    "for index_type in index_types:\n",
    "    fit_counter = 0\n",
    "    counter = 0\n",
    "    for dataset in datasets:\n",
    "        for case in cases:\n",
    "            for bulkload_ratio in bulkload_ratios:\n",
    "                if case == \"10\" and bulkload_ratio != \"1.0\":\n",
    "                    continue\n",
    "                if (case == \"21\" or case == \"22\") and bulkload_ratio == \"1.0\":\n",
    "                    continue\n",
    "                if (case == \"41\" or case == \"42\") and (bulkload_ratio == \"0.0\" or bulkload_ratio == \"1.0\"):\n",
    "                    continue\n",
    "                counter += 1;\n",
    "                file = f\"../log/root_smo_profiling/{dataset}/{case}/{bulkload_ratio}/{index_type}_insert_root.log\"\n",
    "                df = pd.read_csv(file)\n",
    "                if (len(df) == 1):\n",
    "                    fit_counter += 1\n",
    "    result[index_type] = (fit_counter, counter)\n",
    "\n",
    "# print result\n",
    "print(\"fit ratio\")\n",
    "for index_type in index_types:\n",
    "    print(f\"{index_type}: {result[index_type][0]}/{result[index_type][1]} = {result[index_type][0]/result[index_type][1]}\")\n",
    "print(f\"sum: {result['alex'][0]+result['lipp'][0]}/{result['alex'][1]+result['lipp'][1]} = {(result['alex'][0]+result['lipp'][0])/(result['alex'][1]+result['lipp'][1])}\")\n"
   ]
  },
  {
   "cell_type": "code",
   "execution_count": 45,
   "metadata": {},
   "outputs": [
    {
     "name": "stdout",
     "output_type": "stream",
     "text": [
      "overfit (throughput change ratio > 1.2) ratio\n",
      "alex: 33/392 = 0.08418367346938775\n",
      "lipp: 5/392 = 0.012755102040816327\n",
      "sum: 38/784 = 0.04846938775510204\n"
     ]
    }
   ],
   "source": [
    "# overfit ratio\n",
    "import pandas as pd\n",
    "\n",
    "bulkload_sizes = [0, 1000000, 2000000, 5000000, 10000000, 20000000, 50000000, 100000000]\n",
    "sizes2ratios = {\n",
    "    0: \"0.0\",\n",
    "    1000000: \"0.005\",\n",
    "    2000000: \"0.01\",\n",
    "    5000000: \"0.025\",\n",
    "    10000000: \"0.05\",\n",
    "    20000000: \"0.1\",\n",
    "    50000000: \"0.25\",\n",
    "    100000000: \"0.5\",\n",
    "}\n",
    "datasets = [\"linear\", \"covid\", \"fb-1\", \"osm\"]\n",
    "\n",
    "df = pd.read_csv(\"./single_thread_thp.csv\")\n",
    "df = df[(df[\"read_ratio\"] != 0)]\n",
    "df['key_path'] = df['key_path'].apply(lambda x: x.replace('fb', 'fb-1'))\n",
    "df_grouped = df.groupby(['index_type', 'key_path', 'test_suite', 'init_table_size'])['throughput'].mean().reset_index()\n",
    "# print(len(df_grouped))\n",
    "\n",
    "result = {}\n",
    "\n",
    "for index in [\"alex\", \"lipp\"]:\n",
    "    overfit_counter = 0\n",
    "    counter = 0\n",
    "    for dataset in datasets:\n",
    "        for case in [21, 22, 41, 42]:\n",
    "            for i in range(len(bulkload_sizes) - 1):\n",
    "                for j in range(i+1, len(bulkload_sizes)):\n",
    "                    if (case == 41 or case == 42) and bulkload_sizes[i] == 0:\n",
    "                        continue\n",
    "                    # print(f\"i:{bulkload_sizes[i]}, j:{bulkload_sizes[j]}\")\n",
    "                    counter += 1\n",
    "                    # get case throughput\n",
    "                    d1 = df_grouped[(df_grouped[\"key_path\"] == f\"datasets/{dataset}\") & (df_grouped[\"init_table_size\"] == bulkload_sizes[i]) & (df_grouped[\"test_suite\"] == case) & (df_grouped[\"index_type\"] == index)][\"throughput\"].values\n",
    "                    d2 = df_grouped[(df_grouped[\"key_path\"] == f\"datasets/{dataset}\") & (df_grouped[\"init_table_size\"] == bulkload_sizes[j]) & (df_grouped[\"test_suite\"] == case) & (df_grouped[\"index_type\"] == index)][\"throughput\"].values\n",
    "                    root_model_file1 = f\"../log/root_smo_profiling/{dataset}/{case}/{sizes2ratios[bulkload_sizes[i]]}/{index}_insert_root.log\"\n",
    "                    root_model_file2 = f\"../log/root_smo_profiling/{dataset}/{case}/{sizes2ratios[bulkload_sizes[j]]}/{index}_insert_root.log\"\n",
    "                    p1 = pd.read_csv(root_model_file1)\n",
    "                    p2 = pd.read_csv(root_model_file2)\n",
    "                    is_fit = True if len(p1) == 1 and len(p2) == 1 else False\n",
    "                    if is_fit == True and d1[0] > d2[0] and d1[0] / d2[0] > 1.2:\n",
    "                        overfit_counter += 1\n",
    "                        # print(f\"index: {index}, case:{case}, dataset:{dataset}, bulkload_size: {bulkload_sizes[i]}/{bulkload_sizes[j]}, {d1}/{d2}={d1/d2}, model_change: {is_model_change}\")\n",
    "    result[index] = (overfit_counter, counter)\n",
    "\n",
    "# print result\n",
    "print(\"overfit (throughput change ratio > 1.2) ratio\")\n",
    "for index in [\"alex\", \"lipp\"]:\n",
    "    print(f\"{index}: {result[index][0]}/{result[index][1]} = {result[index][0]/result[index][1]}\")\n",
    "print(f\"sum: {result['alex'][0]+result['lipp'][0]}/{result['alex'][1]+result['lipp'][1]} = {(result['alex'][0]+result['lipp'][0])/(result['alex'][1]+result['lipp'][1])}\")\n"
   ]
  }
 ],
 "metadata": {
  "kernelspec": {
   "display_name": ".venv",
   "language": "python",
   "name": "python3"
  },
  "language_info": {
   "codemirror_mode": {
    "name": "ipython",
    "version": 3
   },
   "file_extension": ".py",
   "mimetype": "text/x-python",
   "name": "python",
   "nbconvert_exporter": "python",
   "pygments_lexer": "ipython3",
   "version": "2.7.18"
  }
 },
 "nbformat": 4,
 "nbformat_minor": 2
}
